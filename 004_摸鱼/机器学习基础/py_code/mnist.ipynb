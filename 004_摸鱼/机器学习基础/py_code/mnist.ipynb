{
 "cells": [
  {
   "cell_type": "code",
   "execution_count": 1,
   "metadata": {},
   "outputs": [],
   "source": [
    "import torch\n",
    "import torchvision\n",
    "import torchvision.transforms as transforms\n",
    "import torch.nn as nn\n",
    "import torch.optim as optim"
   ]
  },
  {
   "cell_type": "code",
   "execution_count": 2,
   "metadata": {},
   "outputs": [],
   "source": [
    "#定义网络结构\n",
    "class LeNet(nn.Module):\n",
    "    def __init__(self):\n",
    "        super(LeNet, self).__init__()\n",
    "        self.conv1 = nn.Sequential(  #input_size=(1*28*28)\n",
    "            nn.Conv2d(in_channels=1, \n",
    "                      out_channels=6, \n",
    "                      kernel_size=5, \n",
    "                      stride=1, \n",
    "                      padding=2) , #padding=2保证输入输出尺寸相同\n",
    "            nn.ReLU(),       #input_size=(6*28*28)\n",
    "            nn.MaxPool2d(kernel_size=2, stride=2), #output_size=(6*14*14)\n",
    "        )\n",
    "        self.conv2 = nn.Sequential(\n",
    "            nn.Conv2d(6, 16, 5),\n",
    "            nn.ReLU(),      #input_size=(16*10*10)\n",
    "            nn.MaxPool2d(kernel_size=2, stride=2)  #output_size=(16*5*5)\n",
    "        )\n",
    "        self.fc1 = nn.Sequential(\n",
    "            nn.Linear(in_features=16 * 5 * 5, \n",
    "                      out_features = 120,\n",
    "                      bias=True),\n",
    "            nn.ReLU()\n",
    "        )\n",
    "        self.fc2 = nn.Sequential(\n",
    "            nn.Linear(120, 84),\n",
    "            nn.ReLU()\n",
    "        )\n",
    "        self.fc3 = nn.Linear(84, 10)\n",
    "\n",
    "    # 定义前向传播过程，输入为x   \n",
    "    def forward(self, x):\n",
    "        x = self.conv1(x)\n",
    "        x = self.conv2(x)\n",
    "        # nn.Linear()的输入输出都是维度为一的值，所以要把多维度的tensor展平成一维\n",
    "        x = x.view(x.size()[0], -1)\n",
    "        x = self.fc1(x)\n",
    "        x = self.fc2(x)\n",
    "        x = self.fc3(x)\n",
    "        return x"
   ]
  },
  {
   "cell_type": "code",
   "execution_count": 4,
   "metadata": {},
   "outputs": [],
   "source": [
    "# 超参数设置\n",
    "EPOCH = 8   #遍历数据集次数\n",
    "BATCH_SIZE = 64      #批处理尺寸(batch_size)\n",
    "LR = 0.001        #学习率"
   ]
  },
  {
   "cell_type": "code",
   "execution_count": 5,
   "metadata": {},
   "outputs": [],
   "source": [
    "# 定义训练数据集\n",
    "trainset = torchvision.datasets.MNIST(\n",
    "    root='./mnist/',\n",
    "    train=True,\n",
    "    download=True,\n",
    "    transform=transforms.ToTensor())\n",
    "# 定义训练批处理数据\n",
    "trainloader = torch.utils.data.DataLoader(\n",
    "    trainset,\n",
    "    batch_size=BATCH_SIZE,\n",
    "    shuffle=True,\n",
    "    )\n",
    "# 定义测试数据集\n",
    "testset = torchvision.datasets.MNIST(\n",
    "    root='./mnist/',\n",
    "    train=False,\n",
    "    download=True,\n",
    "    transform=transforms.ToTensor())\n",
    "\n",
    "testloader = torch.utils.data.DataLoader(\n",
    "    testset,\n",
    "    batch_size=BATCH_SIZE,\n",
    "    shuffle=False,\n",
    "    )"
   ]
  },
  {
   "cell_type": "code",
   "execution_count": 6,
   "metadata": {},
   "outputs": [],
   "source": [
    "net = LeNet().cuda()\n",
    "# 定义损失函数loss function 和优化方式（采用SGD）\n",
    "criterion = nn.CrossEntropyLoss()  # 交叉熵损失函数，通常用于多分类问题上\n",
    "optimizer = optim.SGD(net.parameters(), lr=LR, momentum=0.9)\n",
    "#optimizer = optim.Adam(net.parameters(), lr=LR, betas=(0.9, 0.999)))"
   ]
  },
  {
   "cell_type": "code",
   "execution_count": 14,
   "metadata": {},
   "outputs": [
    {
     "data": {
      "text/plain": [
       "(torch.Size([1, 28, 28]), 5)"
      ]
     },
     "execution_count": 14,
     "metadata": {},
     "output_type": "execute_result"
    }
   ],
   "source": [
    "trainset[0][0].shape, trainset[0][1]"
   ]
  },
  {
   "cell_type": "code",
   "execution_count": 17,
   "metadata": {},
   "outputs": [
    {
     "name": "stdout",
     "output_type": "stream",
     "text": [
      "[1, 100] loss: 2.303\n",
      "[1, 200] loss: 2.300\n",
      "[1, 300] loss: 2.299\n",
      "[1, 400] loss: 2.297\n",
      "[1, 500] loss: 2.296\n",
      "[1, 600] loss: 2.292\n",
      "[1, 700] loss: 2.288\n",
      "[1, 800] loss: 2.281\n",
      "[1, 900] loss: 2.270\n",
      "准确率为: 33%\n",
      "[2, 100] loss: 2.231\n",
      "[2, 200] loss: 2.134\n",
      "[2, 300] loss: 1.734\n",
      "[2, 400] loss: 1.052\n",
      "[2, 500] loss: 0.742\n",
      "[2, 600] loss: 0.601\n",
      "[2, 700] loss: 0.507\n",
      "[2, 800] loss: 0.457\n",
      "[2, 900] loss: 0.422\n",
      "准确率为: 88%\n",
      "[3, 100] loss: 0.413\n",
      "[3, 200] loss: 0.355\n",
      "[3, 300] loss: 0.346\n",
      "[3, 400] loss: 0.319\n",
      "[3, 500] loss: 0.291\n",
      "[3, 600] loss: 0.281\n",
      "[3, 700] loss: 0.270\n",
      "[3, 800] loss: 0.274\n",
      "[3, 900] loss: 0.254\n",
      "准确率为: 92%\n",
      "[4, 100] loss: 0.248\n",
      "[4, 200] loss: 0.225\n",
      "[4, 300] loss: 0.211\n",
      "[4, 400] loss: 0.209\n",
      "[4, 500] loss: 0.208\n",
      "[4, 600] loss: 0.201\n",
      "[4, 700] loss: 0.193\n",
      "[4, 800] loss: 0.170\n",
      "[4, 900] loss: 0.166\n",
      "准确率为: 95%\n",
      "[5, 100] loss: 0.157\n",
      "[5, 200] loss: 0.171\n",
      "[5, 300] loss: 0.149\n",
      "[5, 400] loss: 0.148\n",
      "[5, 500] loss: 0.151\n",
      "[5, 600] loss: 0.157\n",
      "[5, 700] loss: 0.130\n",
      "[5, 800] loss: 0.146\n",
      "[5, 900] loss: 0.135\n",
      "准确率为: 96%\n",
      "[6, 100] loss: 0.134\n",
      "[6, 200] loss: 0.131\n",
      "[6, 300] loss: 0.120\n",
      "[6, 400] loss: 0.127\n",
      "[6, 500] loss: 0.121\n",
      "[6, 600] loss: 0.116\n",
      "[6, 700] loss: 0.104\n",
      "[6, 800] loss: 0.114\n",
      "[6, 900] loss: 0.118\n",
      "准确率为: 97%\n",
      "[7, 100] loss: 0.103\n",
      "[7, 200] loss: 0.120\n",
      "[7, 300] loss: 0.105\n",
      "[7, 400] loss: 0.096\n",
      "[7, 500] loss: 0.100\n",
      "[7, 600] loss: 0.099\n",
      "[7, 700] loss: 0.100\n",
      "[7, 800] loss: 0.102\n",
      "[7, 900] loss: 0.102\n",
      "准确率为: 97%\n",
      "[8, 100] loss: 0.093\n",
      "[8, 200] loss: 0.082\n",
      "[8, 300] loss: 0.090\n",
      "[8, 400] loss: 0.104\n",
      "[8, 500] loss: 0.079\n",
      "[8, 600] loss: 0.093\n",
      "[8, 700] loss: 0.085\n",
      "[8, 800] loss: 0.099\n",
      "[8, 900] loss: 0.091\n",
      "准确率为: 97%\n"
     ]
    }
   ],
   "source": [
    "net.train() # 训练模式\n",
    "for epoch in range(EPOCH):\n",
    "    sum_loss = 0.0\n",
    "    # 数据读取\n",
    "    for i, data in enumerate(trainloader):\n",
    "        inputs, labels = data\n",
    "        inputs, labels = inputs.cuda(), labels.cuda()\n",
    "        # 梯度清零\n",
    "        optimizer.zero_grad()\n",
    "\n",
    "        # forward + backward\n",
    "        outputs = net(inputs)\n",
    "        loss = criterion(outputs, labels)\n",
    "        loss.backward()\n",
    "        optimizer.step()\n",
    "        # 每训练100个batch打印一次平均loss\n",
    "        sum_loss += loss.item()\n",
    "        if i % 100 == 99:\n",
    "            print('[%d, %d] loss: %.03f'\n",
    "                    % (epoch + 1, i + 1, sum_loss / 100))\n",
    "            sum_loss = 0.0\n",
    "    net.eval()#测试模式\n",
    "    correct = 0\n",
    "    total = 0\n",
    "    for data in testloader:\n",
    "        images, labels = data\n",
    "        images, labels = images.cuda(), labels.cuda()\n",
    "        outputs = net(images)\n",
    "        # 取得分最高的那个类\n",
    "        _, predicted = torch.max(outputs.data, 1)\n",
    "        total += labels.size(0)\n",
    "        correct += (predicted == labels).sum()\n",
    "    print('准确率为: %d%%' % (100 * correct / total))"
   ]
  },
  {
   "cell_type": "code",
   "execution_count": null,
   "metadata": {},
   "outputs": [],
   "source": []
  }
 ],
 "metadata": {
  "kernelspec": {
   "display_name": "Python 3.7.2 64-bit",
   "language": "python",
   "name": "python3"
  },
  "language_info": {
   "codemirror_mode": {
    "name": "ipython",
    "version": 3
   },
   "file_extension": ".py",
   "mimetype": "text/x-python",
   "name": "python",
   "nbconvert_exporter": "python",
   "pygments_lexer": "ipython3",
   "version": "3.7.2"
  },
  "orig_nbformat": 4,
  "vscode": {
   "interpreter": {
    "hash": "251313649872f37451f101c019e3150533b3f07e745e5ef25076a5cb00b99c90"
   }
  }
 },
 "nbformat": 4,
 "nbformat_minor": 2
}
